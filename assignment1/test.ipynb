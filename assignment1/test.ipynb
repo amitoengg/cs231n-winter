{
 "cells": [
  {
   "cell_type": "code",
   "execution_count": 21,
   "metadata": {
    "collapsed": true
   },
   "outputs": [],
   "source": [
    "# Run some setup code for this notebook.\n",
    "import sys, os\n",
    "from joblib import Parallel, delayed\n",
    "import random\n",
    "import numpy as np\n",
    "import matplotlib\n",
    "from itertools import cycle"
   ]
  },
  {
   "cell_type": "code",
   "execution_count": 36,
   "metadata": {},
   "outputs": [
    {
     "name": "stdout",
     "output_type": "stream",
     "text": [
      "[[ 0  1  2]\n [ 3  4  5]\n [ 6  7  8]\n [ 9 10 11]]\n -- \n[ 0  4  8 11]\n"
     ]
    }
   ],
   "source": [
    "l=np.arange(12).reshape(4,3)\n",
    "y=np.array([0,1,2,2])\n",
    "print l\n",
    "print ' -- '\n",
    "print l[np.arange(4),y]"
   ]
  }
 ],
 "metadata": {
  "kernelspec": {
   "display_name": "Python 2",
   "language": "python",
   "name": "python2"
  },
  "language_info": {
   "codemirror_mode": {
    "name": "ipython",
    "version": 2.0
   },
   "file_extension": ".py",
   "mimetype": "text/x-python",
   "name": "python",
   "nbconvert_exporter": "python",
   "pygments_lexer": "ipython2",
   "version": "2.7.6"
  }
 },
 "nbformat": 4,
 "nbformat_minor": 0
}