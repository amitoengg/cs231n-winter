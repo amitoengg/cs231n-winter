{
 "cells": [
  {
   "cell_type": "code",
   "execution_count": 19,
   "metadata": {
    "collapsed": true
   },
   "outputs": [
    {
     "name": "stdout",
     "output_type": "stream",
     "text": [
      "[[ 0.06315351  0.91621329]\n [ 0.0801813   0.31524088]\n [ 0.43029884  0.79072641]]\n[[ True False]\n [ True  True]\n [ True False]]\n[[ 3.1  0. ]\n [ 3.1  3.1]\n [ 3.1  0. ]]\n"
     ]
    }
   ],
   "source": [
    "import numpy as np\n",
    "a=  np.random.rand(3, 2)\n",
    "b = a<0.5\n",
    "mask = (b) * (3.1)\n",
    "print a\n",
    "print b \n",
    "print mask"
   ]
  }
 ],
 "metadata": {
  "kernelspec": {
   "display_name": "Python 2",
   "language": "python",
   "name": "python2"
  },
  "language_info": {
   "codemirror_mode": {
    "name": "ipython",
    "version": 2.0
   },
   "file_extension": ".py",
   "mimetype": "text/x-python",
   "name": "python",
   "nbconvert_exporter": "python",
   "pygments_lexer": "ipython2",
   "version": "2.7.6"
  }
 },
 "nbformat": 4,
 "nbformat_minor": 0
}